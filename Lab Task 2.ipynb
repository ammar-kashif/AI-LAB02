{
  "cells": [
    {
      "cell_type": "code",
      "execution_count": 2,
      "metadata": {},
      "outputs": [],
      "source": [
        "# importing libraries\n",
        "import pandas as pd\n",
        "import numpy as np"
      ]
    },
    {
      "cell_type": "markdown",
      "metadata": {
        "id": "v8rqnoOM0NqI"
      },
      "source": [
        "# TASK 1\n",
        "dataset link : https://raw.githubusercontent.com/TirendazAcademy/PANDAS-TUTORIAL/main/DataSets/vgsalesGlobale.csv\n",
        "#Exercise\n",
        "Use the dataset of Game, we have explored earlier and perform following operations.\n",
        "\n",
        "* Calculate the total global sales for all games in the dataset.\n",
        "* Find the game with the highest global sales.\n",
        "* Determine the average sales for each region (NA_Sales, EU_Sales, JP_Sales, Other_Sales).\n",
        "* Find the top 5 most popular game genres based on global sales.\n",
        "* Calculate the total sales for each genre in each region and find the most popular genre in North America (NA_Sales).\n",
        "* Display last 10 rows.\n",
        "* Determine the top 3 gaming platforms with the highest global sales.\n",
        "* Calculate the market share (percentage of global sales) for each genre.\n",
        "* Calculate the correlation coefficient between NA_Sales and EU_Sales. (.corr function)"
      ]
    },
    {
      "cell_type": "code",
      "execution_count": null,
      "metadata": {},
      "outputs": [
        {
          "name": "stdout",
          "output_type": "stream",
          "text": [
            "Total Global Sales: $8920.44\n",
            "Average Sales in North America: $0.26466742981082064\n",
            "Average Sales in Europe: $0.14665200626581515\n",
            "Average Sales in Japan: $0.077781660441017\n",
            "Average Sales in Other Regions: $0.0480630196409206\n",
            "Top 5 Games by Global Sales:\n"
          ]
        },
        {
          "data": {
            "text/html": [
              "<div>\n",
              "<style scoped>\n",
              "    .dataframe tbody tr th:only-of-type {\n",
              "        vertical-align: middle;\n",
              "    }\n",
              "\n",
              "    .dataframe tbody tr th {\n",
              "        vertical-align: top;\n",
              "    }\n",
              "\n",
              "    .dataframe thead th {\n",
              "        text-align: right;\n",
              "    }\n",
              "</style>\n",
              "<table border=\"1\" class=\"dataframe\">\n",
              "  <thead>\n",
              "    <tr style=\"text-align: right;\">\n",
              "      <th></th>\n",
              "      <th>Rank</th>\n",
              "      <th>Name</th>\n",
              "      <th>Platform</th>\n",
              "      <th>Year</th>\n",
              "      <th>Genre</th>\n",
              "      <th>Publisher</th>\n",
              "      <th>NA_Sales</th>\n",
              "      <th>EU_Sales</th>\n",
              "      <th>JP_Sales</th>\n",
              "      <th>Other_Sales</th>\n",
              "      <th>Global_Sales</th>\n",
              "    </tr>\n",
              "  </thead>\n",
              "  <tbody>\n",
              "    <tr>\n",
              "      <th>0</th>\n",
              "      <td>1</td>\n",
              "      <td>Wii Sports</td>\n",
              "      <td>Wii</td>\n",
              "      <td>2006.0</td>\n",
              "      <td>Sports</td>\n",
              "      <td>Nintendo</td>\n",
              "      <td>41.49</td>\n",
              "      <td>29.02</td>\n",
              "      <td>3.77</td>\n",
              "      <td>8.46</td>\n",
              "      <td>82.74</td>\n",
              "    </tr>\n",
              "    <tr>\n",
              "      <th>1</th>\n",
              "      <td>2</td>\n",
              "      <td>Super Mario Bros.</td>\n",
              "      <td>NES</td>\n",
              "      <td>1985.0</td>\n",
              "      <td>Platform</td>\n",
              "      <td>Nintendo</td>\n",
              "      <td>29.08</td>\n",
              "      <td>3.58</td>\n",
              "      <td>6.81</td>\n",
              "      <td>0.77</td>\n",
              "      <td>40.24</td>\n",
              "    </tr>\n",
              "    <tr>\n",
              "      <th>2</th>\n",
              "      <td>3</td>\n",
              "      <td>Mario Kart Wii</td>\n",
              "      <td>Wii</td>\n",
              "      <td>2008.0</td>\n",
              "      <td>Racing</td>\n",
              "      <td>Nintendo</td>\n",
              "      <td>15.85</td>\n",
              "      <td>12.88</td>\n",
              "      <td>3.79</td>\n",
              "      <td>3.31</td>\n",
              "      <td>35.82</td>\n",
              "    </tr>\n",
              "    <tr>\n",
              "      <th>3</th>\n",
              "      <td>4</td>\n",
              "      <td>Wii Sports Resort</td>\n",
              "      <td>Wii</td>\n",
              "      <td>2009.0</td>\n",
              "      <td>Sports</td>\n",
              "      <td>Nintendo</td>\n",
              "      <td>15.75</td>\n",
              "      <td>11.01</td>\n",
              "      <td>3.28</td>\n",
              "      <td>2.96</td>\n",
              "      <td>33.00</td>\n",
              "    </tr>\n",
              "    <tr>\n",
              "      <th>4</th>\n",
              "      <td>5</td>\n",
              "      <td>Pokemon Red/Pokemon Blue</td>\n",
              "      <td>GB</td>\n",
              "      <td>1996.0</td>\n",
              "      <td>Role-Playing</td>\n",
              "      <td>Nintendo</td>\n",
              "      <td>11.27</td>\n",
              "      <td>8.89</td>\n",
              "      <td>10.22</td>\n",
              "      <td>1.00</td>\n",
              "      <td>31.37</td>\n",
              "    </tr>\n",
              "  </tbody>\n",
              "</table>\n",
              "</div>"
            ],
            "text/plain": [
              "   Rank                      Name Platform    Year         Genre Publisher  \\\n",
              "0     1                Wii Sports      Wii  2006.0        Sports  Nintendo   \n",
              "1     2         Super Mario Bros.      NES  1985.0      Platform  Nintendo   \n",
              "2     3            Mario Kart Wii      Wii  2008.0        Racing  Nintendo   \n",
              "3     4         Wii Sports Resort      Wii  2009.0        Sports  Nintendo   \n",
              "4     5  Pokemon Red/Pokemon Blue       GB  1996.0  Role-Playing  Nintendo   \n",
              "\n",
              "   NA_Sales  EU_Sales  JP_Sales  Other_Sales  Global_Sales  \n",
              "0     41.49     29.02      3.77         8.46         82.74  \n",
              "1     29.08      3.58      6.81         0.77         40.24  \n",
              "2     15.85     12.88      3.79         3.31         35.82  \n",
              "3     15.75     11.01      3.28         2.96         33.00  \n",
              "4     11.27      8.89     10.22         1.00         31.37  "
            ]
          },
          "metadata": {},
          "output_type": "display_data"
        },
        {
          "name": "stdout",
          "output_type": "stream",
          "text": [
            "Sales by Genre in North America:\n"
          ]
        },
        {
          "data": {
            "text/plain": [
              "Genre\n",
              "Action          877.83\n",
              "Adventure       105.80\n",
              "Fighting        223.59\n",
              "Misc            410.24\n",
              "Platform        447.05\n",
              "Puzzle          123.78\n",
              "Racing          359.42\n",
              "Role-Playing    327.28\n",
              "Shooter         582.60\n",
              "Simulation      183.31\n",
              "Sports          683.35\n",
              "Strategy         68.70\n",
              "Name: NA_Sales, dtype: float64"
            ]
          },
          "metadata": {},
          "output_type": "display_data"
        },
        {
          "name": "stdout",
          "output_type": "stream",
          "text": [
            "Sales by Genre in Europe:\n"
          ]
        },
        {
          "data": {
            "text/plain": [
              "Genre\n",
              "Action          525.00\n",
              "Adventure        64.13\n",
              "Fighting        101.32\n",
              "Misc            215.98\n",
              "Platform        201.63\n",
              "Puzzle           50.78\n",
              "Racing          238.39\n",
              "Role-Playing    188.06\n",
              "Shooter         313.27\n",
              "Simulation      113.38\n",
              "Sports          376.85\n",
              "Strategy         45.34\n",
              "Name: EU_Sales, dtype: float64"
            ]
          },
          "metadata": {},
          "output_type": "display_data"
        },
        {
          "name": "stdout",
          "output_type": "stream",
          "text": [
            "Sales by Genre in Japan:\n"
          ]
        },
        {
          "data": {
            "text/plain": [
              "Genre\n",
              "Action          159.95\n",
              "Adventure        52.07\n",
              "Fighting         87.35\n",
              "Misc            107.76\n",
              "Platform        130.77\n",
              "Puzzle           57.31\n",
              "Racing           56.69\n",
              "Role-Playing    352.31\n",
              "Shooter          38.28\n",
              "Simulation       63.70\n",
              "Sports          135.37\n",
              "Strategy         49.46\n",
              "Name: JP_Sales, dtype: float64"
            ]
          },
          "metadata": {},
          "output_type": "display_data"
        },
        {
          "name": "stdout",
          "output_type": "stream",
          "text": [
            "Sales by Genre in Other Regions:\n"
          ]
        },
        {
          "data": {
            "text/plain": [
              "Genre\n",
              "Action          187.38\n",
              "Adventure        16.81\n",
              "Fighting         36.68\n",
              "Misc             75.32\n",
              "Platform         51.59\n",
              "Puzzle           12.55\n",
              "Racing           77.27\n",
              "Role-Playing     59.61\n",
              "Shooter         102.69\n",
              "Simulation       31.52\n",
              "Sports          134.97\n",
              "Strategy         11.36\n",
              "Name: Other_Sales, dtype: float64"
            ]
          },
          "metadata": {},
          "output_type": "display_data"
        },
        {
          "name": "stdout",
          "output_type": "stream",
          "text": [
            "Most popular Genre in North America: Genre\n",
            "Action    877.83\n",
            "Name: NA_Sales, dtype: float64\n"
          ]
        },
        {
          "data": {
            "text/html": [
              "<div>\n",
              "<style scoped>\n",
              "    .dataframe tbody tr th:only-of-type {\n",
              "        vertical-align: middle;\n",
              "    }\n",
              "\n",
              "    .dataframe tbody tr th {\n",
              "        vertical-align: top;\n",
              "    }\n",
              "\n",
              "    .dataframe thead th {\n",
              "        text-align: right;\n",
              "    }\n",
              "</style>\n",
              "<table border=\"1\" class=\"dataframe\">\n",
              "  <thead>\n",
              "    <tr style=\"text-align: right;\">\n",
              "      <th></th>\n",
              "      <th>Rank</th>\n",
              "      <th>Name</th>\n",
              "      <th>Platform</th>\n",
              "      <th>Year</th>\n",
              "      <th>Genre</th>\n",
              "      <th>Publisher</th>\n",
              "      <th>NA_Sales</th>\n",
              "      <th>EU_Sales</th>\n",
              "      <th>JP_Sales</th>\n",
              "      <th>Other_Sales</th>\n",
              "      <th>Global_Sales</th>\n",
              "    </tr>\n",
              "  </thead>\n",
              "  <tbody>\n",
              "    <tr>\n",
              "      <th>16588</th>\n",
              "      <td>16591</td>\n",
              "      <td>Mega Brain Boost</td>\n",
              "      <td>DS</td>\n",
              "      <td>2008.0</td>\n",
              "      <td>Puzzle</td>\n",
              "      <td>Majesco Entertainment</td>\n",
              "      <td>0.01</td>\n",
              "      <td>0.00</td>\n",
              "      <td>0.00</td>\n",
              "      <td>0.0</td>\n",
              "      <td>0.01</td>\n",
              "    </tr>\n",
              "    <tr>\n",
              "      <th>16589</th>\n",
              "      <td>16592</td>\n",
              "      <td>Chou Ezaru wa Akai Hana: Koi wa Tsuki ni Shiru...</td>\n",
              "      <td>PSV</td>\n",
              "      <td>2016.0</td>\n",
              "      <td>Action</td>\n",
              "      <td>dramatic create</td>\n",
              "      <td>0.00</td>\n",
              "      <td>0.00</td>\n",
              "      <td>0.01</td>\n",
              "      <td>0.0</td>\n",
              "      <td>0.01</td>\n",
              "    </tr>\n",
              "    <tr>\n",
              "      <th>16590</th>\n",
              "      <td>16593</td>\n",
              "      <td>Eiyuu Densetsu: Sora no Kiseki Material Collec...</td>\n",
              "      <td>PSP</td>\n",
              "      <td>2007.0</td>\n",
              "      <td>Role-Playing</td>\n",
              "      <td>Falcom Corporation</td>\n",
              "      <td>0.00</td>\n",
              "      <td>0.00</td>\n",
              "      <td>0.01</td>\n",
              "      <td>0.0</td>\n",
              "      <td>0.01</td>\n",
              "    </tr>\n",
              "    <tr>\n",
              "      <th>16591</th>\n",
              "      <td>16594</td>\n",
              "      <td>Myst IV: Revelation</td>\n",
              "      <td>PC</td>\n",
              "      <td>2004.0</td>\n",
              "      <td>Adventure</td>\n",
              "      <td>Ubisoft</td>\n",
              "      <td>0.01</td>\n",
              "      <td>0.00</td>\n",
              "      <td>0.00</td>\n",
              "      <td>0.0</td>\n",
              "      <td>0.01</td>\n",
              "    </tr>\n",
              "    <tr>\n",
              "      <th>16592</th>\n",
              "      <td>16595</td>\n",
              "      <td>Plushees</td>\n",
              "      <td>DS</td>\n",
              "      <td>2008.0</td>\n",
              "      <td>Simulation</td>\n",
              "      <td>Destineer</td>\n",
              "      <td>0.01</td>\n",
              "      <td>0.00</td>\n",
              "      <td>0.00</td>\n",
              "      <td>0.0</td>\n",
              "      <td>0.01</td>\n",
              "    </tr>\n",
              "    <tr>\n",
              "      <th>16593</th>\n",
              "      <td>16596</td>\n",
              "      <td>Woody Woodpecker in Crazy Castle 5</td>\n",
              "      <td>GBA</td>\n",
              "      <td>2002.0</td>\n",
              "      <td>Platform</td>\n",
              "      <td>Kemco</td>\n",
              "      <td>0.01</td>\n",
              "      <td>0.00</td>\n",
              "      <td>0.00</td>\n",
              "      <td>0.0</td>\n",
              "      <td>0.01</td>\n",
              "    </tr>\n",
              "    <tr>\n",
              "      <th>16594</th>\n",
              "      <td>16597</td>\n",
              "      <td>Men in Black II: Alien Escape</td>\n",
              "      <td>GC</td>\n",
              "      <td>2003.0</td>\n",
              "      <td>Shooter</td>\n",
              "      <td>Infogrames</td>\n",
              "      <td>0.01</td>\n",
              "      <td>0.00</td>\n",
              "      <td>0.00</td>\n",
              "      <td>0.0</td>\n",
              "      <td>0.01</td>\n",
              "    </tr>\n",
              "    <tr>\n",
              "      <th>16595</th>\n",
              "      <td>16598</td>\n",
              "      <td>SCORE International Baja 1000: The Official Game</td>\n",
              "      <td>PS2</td>\n",
              "      <td>2008.0</td>\n",
              "      <td>Racing</td>\n",
              "      <td>Activision</td>\n",
              "      <td>0.00</td>\n",
              "      <td>0.00</td>\n",
              "      <td>0.00</td>\n",
              "      <td>0.0</td>\n",
              "      <td>0.01</td>\n",
              "    </tr>\n",
              "    <tr>\n",
              "      <th>16596</th>\n",
              "      <td>16599</td>\n",
              "      <td>Know How 2</td>\n",
              "      <td>DS</td>\n",
              "      <td>2010.0</td>\n",
              "      <td>Puzzle</td>\n",
              "      <td>7G//AMES</td>\n",
              "      <td>0.00</td>\n",
              "      <td>0.01</td>\n",
              "      <td>0.00</td>\n",
              "      <td>0.0</td>\n",
              "      <td>0.01</td>\n",
              "    </tr>\n",
              "    <tr>\n",
              "      <th>16597</th>\n",
              "      <td>16600</td>\n",
              "      <td>Spirits &amp; Spells</td>\n",
              "      <td>GBA</td>\n",
              "      <td>2003.0</td>\n",
              "      <td>Platform</td>\n",
              "      <td>Wanadoo</td>\n",
              "      <td>0.01</td>\n",
              "      <td>0.00</td>\n",
              "      <td>0.00</td>\n",
              "      <td>0.0</td>\n",
              "      <td>0.01</td>\n",
              "    </tr>\n",
              "  </tbody>\n",
              "</table>\n",
              "</div>"
            ],
            "text/plain": [
              "        Rank                                               Name Platform  \\\n",
              "16588  16591                                   Mega Brain Boost       DS   \n",
              "16589  16592  Chou Ezaru wa Akai Hana: Koi wa Tsuki ni Shiru...      PSV   \n",
              "16590  16593  Eiyuu Densetsu: Sora no Kiseki Material Collec...      PSP   \n",
              "16591  16594                                Myst IV: Revelation       PC   \n",
              "16592  16595                                           Plushees       DS   \n",
              "16593  16596                 Woody Woodpecker in Crazy Castle 5      GBA   \n",
              "16594  16597                      Men in Black II: Alien Escape       GC   \n",
              "16595  16598   SCORE International Baja 1000: The Official Game      PS2   \n",
              "16596  16599                                         Know How 2       DS   \n",
              "16597  16600                                   Spirits & Spells      GBA   \n",
              "\n",
              "         Year         Genre              Publisher  NA_Sales  EU_Sales  \\\n",
              "16588  2008.0        Puzzle  Majesco Entertainment      0.01      0.00   \n",
              "16589  2016.0        Action        dramatic create      0.00      0.00   \n",
              "16590  2007.0  Role-Playing     Falcom Corporation      0.00      0.00   \n",
              "16591  2004.0     Adventure                Ubisoft      0.01      0.00   \n",
              "16592  2008.0    Simulation              Destineer      0.01      0.00   \n",
              "16593  2002.0      Platform                  Kemco      0.01      0.00   \n",
              "16594  2003.0       Shooter             Infogrames      0.01      0.00   \n",
              "16595  2008.0        Racing             Activision      0.00      0.00   \n",
              "16596  2010.0        Puzzle               7G//AMES      0.00      0.01   \n",
              "16597  2003.0      Platform                Wanadoo      0.01      0.00   \n",
              "\n",
              "       JP_Sales  Other_Sales  Global_Sales  \n",
              "16588      0.00          0.0          0.01  \n",
              "16589      0.01          0.0          0.01  \n",
              "16590      0.01          0.0          0.01  \n",
              "16591      0.00          0.0          0.01  \n",
              "16592      0.00          0.0          0.01  \n",
              "16593      0.00          0.0          0.01  \n",
              "16594      0.00          0.0          0.01  \n",
              "16595      0.00          0.0          0.01  \n",
              "16596      0.00          0.0          0.01  \n",
              "16597      0.00          0.0          0.01  "
            ]
          },
          "metadata": {},
          "output_type": "display_data"
        },
        {
          "data": {
            "text/plain": [
              "Platform\n",
              "PS2     1255.64\n",
              "X360     979.96\n",
              "PS3      957.84\n",
              "Name: Global_Sales, dtype: float64"
            ]
          },
          "metadata": {},
          "output_type": "display_data"
        },
        {
          "name": "stdout",
          "output_type": "stream",
          "text": [
            "Average Sales per Genre: Genre\n",
            "Action          19.631094\n",
            "Sports          14.920004\n",
            "Shooter         11.629135\n",
            "Role-Playing    10.396012\n",
            "Platform         9.319832\n",
            "Misc             9.079821\n",
            "Racing           8.206322\n",
            "Fighting         5.032375\n",
            "Simulation       4.396644\n",
            "Puzzle           2.745941\n",
            "Adventure        2.679688\n",
            "Strategy         1.963132\n",
            "Name: Global_Sales, dtype: float64\n",
            "0.7677267483702641\n"
          ]
        }
      ],
      "source": [
        "salesData = pd.read_csv('dataset.csv')\n",
        "\n",
        "totalGlobalSales = salesData.sum(axis=0, numeric_only=True)['Global_Sales']\n",
        "\n",
        "print(f\"Total Global Sales: ${totalGlobalSales}\")\n",
        "\n",
        "averageNA = salesData.mean(axis=0, numeric_only=True)['NA_Sales']\n",
        "averageEU = salesData.mean(axis=0, numeric_only=True)['EU_Sales']\n",
        "averageJP = salesData.mean(axis=0, numeric_only=True)['JP_Sales']\n",
        "averageOther = salesData.mean(axis=0, numeric_only=True)['Other_Sales']\n",
        "\n",
        "print(f\"Average Sales in North America: ${averageNA}\")\n",
        "print(f\"Average Sales in Europe: ${averageEU}\")\n",
        "print(f\"Average Sales in Japan: ${averageJP}\")\n",
        "print(f\"Average Sales in Other Regions: ${averageOther}\")\n",
        "\n",
        "top5Games = salesData.sort_values(by='Global_Sales', ascending=False).head(5)\n",
        "\n",
        "print(\"Top 5 Games by Global Sales:\")\n",
        "display(top5Games)\n",
        "\n",
        "groupedNA = salesData.groupby('Genre').sum()['NA_Sales']\n",
        "groupedEU = salesData.groupby('Genre').sum()['EU_Sales']\n",
        "groupedJP = salesData.groupby('Genre').sum()['JP_Sales']\n",
        "groupedOther = salesData.groupby('Genre').sum()['Other_Sales']\n",
        "\n",
        "print(f\"Sales by Genre in North America:\")\n",
        "display(groupedNA)\n",
        "print(f\"Sales by Genre in Europe:\")\n",
        "display(groupedEU)\n",
        "print(f\"Sales by Genre in Japan:\")\n",
        "display(groupedJP)\n",
        "print(f\"Sales by Genre in Other Regions:\")\n",
        "display(groupedOther)\n",
        "print(f\"Most popular Genre in North America: {groupedNA.head(1)}\")\n",
        "\n",
        "display(salesData.tail(10))\n",
        "\n",
        "top3Platforms = salesData.groupby('Platform').sum()['Global_Sales'].sort_values(ascending=False).head(3)\n",
        "\n",
        "display(top3Platforms)\n",
        "\n",
        "totalSum = salesData['Global_Sales'].sum()\n",
        "genres = salesData.groupby('Genre')['Global_Sales'].sum() / totalSum * 100\n",
        "\n",
        "print(f\"Average Sales per Genre: {genres.sort_values(ascending=False)}\")\n",
        "\n",
        "print(\"Correlation (NA & EU): \", salesData['NA_Sales'].corr(salesData['EU_Sales']))\n"
      ]
    },
    {
      "cell_type": "markdown",
      "metadata": {
        "id": "TAcoA0P60GrS"
      },
      "source": [
        "## Task 2 English-Spanish Dictionary\n",
        "You are creating a basic English-Spanish dictionary that allows users to look up English words and find their Spanish translations.\n",
        "\n",
        "\n",
        "### Tasks\n",
        "* Create a dictionary where English words are keys and their Spanish translations are values.\n",
        "* Ask the user to input an English word.\n",
        "* Check if the word exists in the dictionary.\n",
        "* If the word exists, print its Spanish translation.\n",
        "* If the word does not exist, inform the user that the translation is not available.\n",
        "* Implement a loop that allows the user to keep looking up words until they choose to exit.\n"
      ]
    },
    {
      "cell_type": "code",
      "execution_count": 8,
      "metadata": {},
      "outputs": [
        {
          "name": "stdout",
          "output_type": "stream",
          "text": [
            "hola\n",
            "perro\n",
            "Word not found\n",
            "hola\n",
            "Word not found\n",
            "Word not found\n"
          ]
        }
      ],
      "source": [
        "translation = {\n",
        "    'hello': 'hola',\n",
        "    'car': 'auto',\n",
        "    'dog': 'perro',\n",
        "    'name': 'nombre'\n",
        "}\n",
        "\n",
        "while True:\n",
        "\n",
        "    word = input(\"Enter word (Type 'q' to exit): \")\n",
        "\n",
        "    if word.lower() == 'q':\n",
        "        break\n",
        "\n",
        "    if word.lower() in translation:\n",
        "        print(f\"{word.lower()} in Spanish is {translation[word.lower()]}\")\n",
        "    else:\n",
        "        print(f\"{word.lower()} not found in Dictionary\")"
      ]
    },
    {
      "cell_type": "markdown",
      "metadata": {
        "id": "l7D9aut90G_C"
      },
      "source": [
        "\n",
        "## Task 3 Email Classification\n",
        "Develope a tool which will classify an email.\n",
        "\n",
        "### Tasks:\n",
        "* Create a function classify_emails that takes a list of emails as an argument.\n",
        "* Inside the function, categorize emails into \"Important,\" \"Promotions,\" and \"Spam\" based on keywords and content analysis.\n",
        "* Loop through the emails and identify keywords to determine their category.\n",
        "* If an email contains keywords indicating importance, assign it as \"Important.\"\n",
        "* If an email contains keywords related to promotions or deals, assign it as \"Promotions.\"\n",
        "* If an email is suspected to be spam based on certain keywords or patterns, assign it as \"Spam.\"\n",
        "* Return three lists of emails for each category.\n",
        "* Print the lists."
      ]
    },
    {
      "cell_type": "code",
      "execution_count": 48,
      "metadata": {},
      "outputs": [
        {
          "data": {
            "text/plain": [
              "{'important': ['urgent: please respond to this email!',\n",
              "  'please completed this task by the deadline'],\n",
              " 'promotions': ['discount on shoes', 'new sale on clothes'],\n",
              " 'spam': ['get free netflix']}"
            ]
          },
          "metadata": {},
          "output_type": "display_data"
        }
      ],
      "source": [
        "def classifyEmails(emails):\n",
        "    important = [\"urgent\", \"required\", \"deadline\", \"important\"]\n",
        "    promotions = [\"discount\", \"deal\", \"sale\"]\n",
        "    spam = [\"spam\", \"free\"]\n",
        "    categorizedEmails = {\n",
        "        \"important\": [],\n",
        "        \"promotions\": [],\n",
        "        \"spam\": []\n",
        "    }\n",
        "\n",
        "    for email in emails:\n",
        "        email = email.lower()\n",
        "        if any(word in email for word in important):\n",
        "            categorizedEmails['important'].append(email)\n",
        "        elif any(word in email for word in promotions):\n",
        "            categorizedEmails['promotions'].append(email)\n",
        "        elif any(word in email for word in spam):\n",
        "            categorizedEmails['spam'].append(email)\n",
        "        else:\n",
        "            print(f\"{email} not categorized!\")\n",
        "\n",
        "    return categorizedEmails\n",
        "\n",
        "emails = [\n",
        "    \"Urgent: Please respond to this email!\",\n",
        "    \"Discount on shoes\",\n",
        "    \"Get free Netflix\",\n",
        "    \"Please completed this task by the deadline\",\n",
        "    \"New Sale on clothes\"\n",
        "]\n",
        "\n",
        "display(classifyEmails(emails))"
      ]
    },
    {
      "cell_type": "markdown",
      "metadata": {
        "id": "0brD8K130gh8"
      },
      "source": [
        "## Task 4 Online Store Shopping Cart\n",
        "Write a Python program to simulate the online store's shopping cart system. The program should use a while loop to provide an interactive shopping experience.\n",
        "\n",
        "\n",
        "### Tasks:\n",
        "* Initialize an empty list called shopping_cart to store items.\n",
        "* Display a welcome message and available products.\n",
        "* Loop should be iterating over AI Response Simulator and Investment decision and keep asking for user input.\n",
        "* Prompt the user to enter the number corresponding to the product they want to add to the cart.\n",
        "* Check if the user entered 'q'. If so, break the loop.\n",
        "* Convert the choice to an integer and validate it within the valid range (1 to 3).\n",
        "* Based on the user's choice, add the selected product to the shopping_cart list.\n",
        "* Display a confirmation message indicating the added product.\n",
        "* Continue the loop to allow the user to add more products or proceed to checkout.\n",
        "* After the loop ends, display the contents of the shopping cart.\n",
        "* Display a goodbye message.\n",
        "* End the program."
      ]
    },
    {
      "cell_type": "code",
      "execution_count": 56,
      "metadata": {},
      "outputs": [
        {
          "name": "stdout",
          "output_type": "stream",
          "text": [
            "Following items available: \n",
            "Shoes\n",
            "Caps\n",
            "T-Shirts\n",
            "Jeans\n",
            "Socks\n",
            "Shoes added to cart!\n",
            "Following items available: \n",
            "Shoes\n",
            "Caps\n",
            "T-Shirts\n",
            "Jeans\n",
            "Socks\n",
            "Caps added to cart!\n",
            "Following items available: \n",
            "Shoes\n",
            "Caps\n",
            "T-Shirts\n",
            "Jeans\n",
            "Socks\n",
            "Items in Cart: \n",
            "Shoes\n",
            "Caps\n",
            "Goodbye!\n"
          ]
        }
      ],
      "source": [
        "cart = []\n",
        "items = ['Shoes', 'Caps', 'T-Shirts', 'Jeans', 'Socks']\n",
        "\n",
        "while True:\n",
        "\n",
        "    print(\"Following items available: \")\n",
        "    for item in items:\n",
        "        print(item)\n",
        "\n",
        "    inp = int(input(\"Enter item number (1 - 5) to add to cart (Type '0' to exit): \"))\n",
        "\n",
        "    if inp == 0:\n",
        "        break\n",
        "\n",
        "    if inp in [1, 2, 3, 4, 5]:\n",
        "        cart.append(items[inp - 1])\n",
        "        print(f\"{items[inp - 1]} added to cart!\")\n",
        "    else:\n",
        "        print(\"Invalid input! Try again!\")\n",
        "\n",
        "print(\"Items in Cart: \")\n",
        "for item in cart:\n",
        "    print(item)\n",
        "\n",
        "print(\"Goodbye!\")\n"
      ]
    },
    {
      "cell_type": "markdown",
      "metadata": {
        "id": "2u1i-sXA0mYb"
      },
      "source": [
        "## Task 5\n",
        "* Create two NumPy arrays of the same shape and perform element-wise addition on them.\n",
        "* Calculate the element-wise product of two NumPy arrays."
      ]
    },
    {
      "cell_type": "code",
      "execution_count": 57,
      "metadata": {},
      "outputs": [
        {
          "name": "stdout",
          "output_type": "stream",
          "text": [
            "[ 6 14 24 36 50]\n"
          ]
        }
      ],
      "source": [
        "arr1 = np.array([1, 2, 3, 4, 5])\n",
        "arr2 = np.array([6, 7, 8, 9, 10])\n",
        "\n",
        "print(np.add(arr1, arr2))\n",
        "print(np.multiply(arr1, arr2))"
      ]
    },
    {
      "cell_type": "markdown",
      "metadata": {
        "id": "bhV4sIZU1Iui"
      },
      "source": [
        "## Task 6\n",
        "* Reshape a 1D NumPy array into a 2D array with dimensions (3, 4).\n",
        "\n",
        "* Concatenate two NumPy arrays horizontally and vertically."
      ]
    },
    {
      "cell_type": "code",
      "execution_count": 63,
      "metadata": {},
      "outputs": [
        {
          "name": "stdout",
          "output_type": "stream",
          "text": [
            "[[ 1  2  3  4]\n",
            " [ 5  6  7  8]\n",
            " [ 9 10 11 12]]\n"
          ]
        }
      ],
      "source": [
        "arr = np.array([1, 2, 3, 4, 5, 6, 7, 8, 9, 10, 11, 12])\n",
        "arr2D = arr.reshape((3, 4))\n",
        "\n",
        "print(arr2D)"
      ]
    },
    {
      "cell_type": "markdown",
      "metadata": {
        "id": "HJYa0CKL1bGi"
      },
      "source": [
        "## Task 7\n",
        "* Reverse A List In Python Using Slicing\n"
      ]
    },
    {
      "cell_type": "code",
      "execution_count": 65,
      "metadata": {},
      "outputs": [
        {
          "name": "stdout",
          "output_type": "stream",
          "text": [
            "[5, 4, 3, 2, 1]\n"
          ]
        }
      ],
      "source": [
        "lst = [1, 2, 3, 4, 5]\n",
        "print(lst[::-1])"
      ]
    },
    {
      "cell_type": "markdown",
      "metadata": {
        "id": "hkrCxw4XSRl0"
      },
      "source": [
        "# TASK 8\n",
        "You need to download the GitHub Desktop software, push your lab task to your GitHub account, and share the link on GCR as a submission."
      ]
    },
    {
      "cell_type": "code",
      "execution_count": null,
      "metadata": {},
      "outputs": [],
      "source": []
    }
  ],
  "metadata": {
    "colab": {
      "provenance": []
    },
    "kernelspec": {
      "display_name": "Python 3",
      "name": "python3"
    },
    "language_info": {
      "codemirror_mode": {
        "name": "ipython",
        "version": 3
      },
      "file_extension": ".py",
      "mimetype": "text/x-python",
      "name": "python",
      "nbconvert_exporter": "python",
      "pygments_lexer": "ipython3",
      "version": "3.9.6"
    }
  },
  "nbformat": 4,
  "nbformat_minor": 0
}
